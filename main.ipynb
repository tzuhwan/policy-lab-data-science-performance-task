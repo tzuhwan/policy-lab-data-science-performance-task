{
 "cells": [
  {
   "cell_type": "markdown",
   "source": [
    "# Policy Lab Data Science Intern Performance Task\n",
    "## By TzuHwan Seet"
   ],
   "metadata": {}
  },
  {
   "cell_type": "code",
   "execution_count": 3,
   "source": [
    "# libraries \n",
    "import pandas as pd"
   ],
   "outputs": [],
   "metadata": {}
  },
  {
   "cell_type": "markdown",
   "source": [
    "## Question 1: How many people live in Boston?"
   ],
   "metadata": {}
  },
  {
   "cell_type": "code",
   "execution_count": 5,
   "source": [
    "# read in data\n",
    "population_by_blockgroup_df = pd.read_csv(\"data/population_by_blockgroup.csv\")\n",
    "population_by_blockgroup_df.head()"
   ],
   "outputs": [
    {
     "output_type": "execute_result",
     "data": {
      "text/plain": [
       "   state  county   tract  blockgroup          city       GEOID10  B01001_001E  \\\n",
       "0     25       9  252602           4  Methuen Town  250092526024         1824   \n",
       "1     25       5  641300           5    Fall River  250056413005         1012   \n",
       "2     25      27  710600           5     Fitchburg  250277106005         1917   \n",
       "3     25      17  353000           3     Cambridge  250173530003         1065   \n",
       "4     25      25   50901           2        Boston  250250509012         1726   \n",
       "\n",
       "   B01001_002E  B01001_003E  B01001_004E  ...  B01001_040E  B01001_041E  \\\n",
       "0          999           56           95  ...           74           45   \n",
       "1          583           85           13  ...           43           22   \n",
       "2          991            0          152  ...           96            9   \n",
       "3          526           46           17  ...           67           10   \n",
       "4          943            0           10  ...           39           36   \n",
       "\n",
       "   B01001_042E  B01001_043E  B01001_044E  B01001_045E  B01001_046E  \\\n",
       "0           59           30            7           28           52   \n",
       "1           15           36            0            0           13   \n",
       "2           15           13            0           14            6   \n",
       "3           14            6            0            7           31   \n",
       "4           11           29            9            0           18   \n",
       "\n",
       "   B01001_047E  B01001_048E  B01001_049E  \n",
       "0           27            7           10  \n",
       "1           17            0           14  \n",
       "2           55            0           14  \n",
       "3           46           31           23  \n",
       "4           15            0            0  \n",
       "\n",
       "[5 rows x 55 columns]"
      ],
      "text/html": [
       "<div>\n",
       "<style scoped>\n",
       "    .dataframe tbody tr th:only-of-type {\n",
       "        vertical-align: middle;\n",
       "    }\n",
       "\n",
       "    .dataframe tbody tr th {\n",
       "        vertical-align: top;\n",
       "    }\n",
       "\n",
       "    .dataframe thead th {\n",
       "        text-align: right;\n",
       "    }\n",
       "</style>\n",
       "<table border=\"1\" class=\"dataframe\">\n",
       "  <thead>\n",
       "    <tr style=\"text-align: right;\">\n",
       "      <th></th>\n",
       "      <th>state</th>\n",
       "      <th>county</th>\n",
       "      <th>tract</th>\n",
       "      <th>blockgroup</th>\n",
       "      <th>city</th>\n",
       "      <th>GEOID10</th>\n",
       "      <th>B01001_001E</th>\n",
       "      <th>B01001_002E</th>\n",
       "      <th>B01001_003E</th>\n",
       "      <th>B01001_004E</th>\n",
       "      <th>...</th>\n",
       "      <th>B01001_040E</th>\n",
       "      <th>B01001_041E</th>\n",
       "      <th>B01001_042E</th>\n",
       "      <th>B01001_043E</th>\n",
       "      <th>B01001_044E</th>\n",
       "      <th>B01001_045E</th>\n",
       "      <th>B01001_046E</th>\n",
       "      <th>B01001_047E</th>\n",
       "      <th>B01001_048E</th>\n",
       "      <th>B01001_049E</th>\n",
       "    </tr>\n",
       "  </thead>\n",
       "  <tbody>\n",
       "    <tr>\n",
       "      <th>0</th>\n",
       "      <td>25</td>\n",
       "      <td>9</td>\n",
       "      <td>252602</td>\n",
       "      <td>4</td>\n",
       "      <td>Methuen Town</td>\n",
       "      <td>250092526024</td>\n",
       "      <td>1824</td>\n",
       "      <td>999</td>\n",
       "      <td>56</td>\n",
       "      <td>95</td>\n",
       "      <td>...</td>\n",
       "      <td>74</td>\n",
       "      <td>45</td>\n",
       "      <td>59</td>\n",
       "      <td>30</td>\n",
       "      <td>7</td>\n",
       "      <td>28</td>\n",
       "      <td>52</td>\n",
       "      <td>27</td>\n",
       "      <td>7</td>\n",
       "      <td>10</td>\n",
       "    </tr>\n",
       "    <tr>\n",
       "      <th>1</th>\n",
       "      <td>25</td>\n",
       "      <td>5</td>\n",
       "      <td>641300</td>\n",
       "      <td>5</td>\n",
       "      <td>Fall River</td>\n",
       "      <td>250056413005</td>\n",
       "      <td>1012</td>\n",
       "      <td>583</td>\n",
       "      <td>85</td>\n",
       "      <td>13</td>\n",
       "      <td>...</td>\n",
       "      <td>43</td>\n",
       "      <td>22</td>\n",
       "      <td>15</td>\n",
       "      <td>36</td>\n",
       "      <td>0</td>\n",
       "      <td>0</td>\n",
       "      <td>13</td>\n",
       "      <td>17</td>\n",
       "      <td>0</td>\n",
       "      <td>14</td>\n",
       "    </tr>\n",
       "    <tr>\n",
       "      <th>2</th>\n",
       "      <td>25</td>\n",
       "      <td>27</td>\n",
       "      <td>710600</td>\n",
       "      <td>5</td>\n",
       "      <td>Fitchburg</td>\n",
       "      <td>250277106005</td>\n",
       "      <td>1917</td>\n",
       "      <td>991</td>\n",
       "      <td>0</td>\n",
       "      <td>152</td>\n",
       "      <td>...</td>\n",
       "      <td>96</td>\n",
       "      <td>9</td>\n",
       "      <td>15</td>\n",
       "      <td>13</td>\n",
       "      <td>0</td>\n",
       "      <td>14</td>\n",
       "      <td>6</td>\n",
       "      <td>55</td>\n",
       "      <td>0</td>\n",
       "      <td>14</td>\n",
       "    </tr>\n",
       "    <tr>\n",
       "      <th>3</th>\n",
       "      <td>25</td>\n",
       "      <td>17</td>\n",
       "      <td>353000</td>\n",
       "      <td>3</td>\n",
       "      <td>Cambridge</td>\n",
       "      <td>250173530003</td>\n",
       "      <td>1065</td>\n",
       "      <td>526</td>\n",
       "      <td>46</td>\n",
       "      <td>17</td>\n",
       "      <td>...</td>\n",
       "      <td>67</td>\n",
       "      <td>10</td>\n",
       "      <td>14</td>\n",
       "      <td>6</td>\n",
       "      <td>0</td>\n",
       "      <td>7</td>\n",
       "      <td>31</td>\n",
       "      <td>46</td>\n",
       "      <td>31</td>\n",
       "      <td>23</td>\n",
       "    </tr>\n",
       "    <tr>\n",
       "      <th>4</th>\n",
       "      <td>25</td>\n",
       "      <td>25</td>\n",
       "      <td>50901</td>\n",
       "      <td>2</td>\n",
       "      <td>Boston</td>\n",
       "      <td>250250509012</td>\n",
       "      <td>1726</td>\n",
       "      <td>943</td>\n",
       "      <td>0</td>\n",
       "      <td>10</td>\n",
       "      <td>...</td>\n",
       "      <td>39</td>\n",
       "      <td>36</td>\n",
       "      <td>11</td>\n",
       "      <td>29</td>\n",
       "      <td>9</td>\n",
       "      <td>0</td>\n",
       "      <td>18</td>\n",
       "      <td>15</td>\n",
       "      <td>0</td>\n",
       "      <td>0</td>\n",
       "    </tr>\n",
       "  </tbody>\n",
       "</table>\n",
       "<p>5 rows × 55 columns</p>\n",
       "</div>"
      ]
     },
     "metadata": {},
     "execution_count": 5
    }
   ],
   "metadata": {}
  },
  {
   "cell_type": "code",
   "execution_count": 26,
   "source": [
    "# check for any nan values in the csv \n",
    "if population_by_blockgroup_df.isnull().sum().sum() == 0:\n",
    "    print(\"No nan values in dataframe\")\n",
    "else:\n",
    "    print(\"nan values in dataframe\")"
   ],
   "outputs": [
    {
     "output_type": "stream",
     "name": "stdout",
     "text": [
      "No nan values in dataframe\n"
     ]
    }
   ],
   "metadata": {}
  },
  {
   "cell_type": "code",
   "execution_count": 15,
   "source": [
    "# Total people who live in Boston = SUM(B01001_001E) GROUP BY GEOID10 WHERE city='Boston'\n",
    "boston_population = population_by_blockgroup_df[population_by_blockgroup_df[\"city\"]==\"Boston\"]\n",
    "print(\"Boston population: \", boston_population[\"B01001_001E\"].sum())\n"
   ],
   "outputs": [
    {
     "output_type": "stream",
     "name": "stdout",
     "text": [
      "Boston population:  684379\n"
     ]
    }
   ],
   "metadata": {}
  },
  {
   "cell_type": "markdown",
   "source": [
    "## Question 2: How many people who are at least 65 years old live in Boston?"
   ],
   "metadata": {}
  },
  {
   "cell_type": "code",
   "execution_count": 67,
   "source": [
    "code_for_65_above_with_GEOID10 = [\n",
    "    \"B01001_020E\", \"B01001_021E\", \"B01001_022E\", \"B01001_023E\", \"B01001_024E\",\n",
    "    \"B01001_025E\", \"B01001_044E\", \"B01001_045E\", \"B01001_046E\", \"B01001_047E\",\n",
    "    \"B01001_048E\", \"B01001_049E\", \"GEOID10\"\n",
    "]\n",
    "\n",
    "# return the codes and GEOID10\n",
    "boston_65_and_above_population = boston_population[code_for_65_above_with_GEOID10]\n",
    "total_boston_65_and_above_count = boston_65_and_above_population.iloc[:, :-1].sum().sum()\n",
    "print(\"Number of people who are at least 65 years old who live in Boston: \", total_boston_65_and_above_count)"
   ],
   "outputs": [
    {
     "output_type": "stream",
     "name": "stdout",
     "text": [
      "Number of people who are at least 65 years old who live in Boston:  78861\n"
     ]
    }
   ],
   "metadata": {}
  },
  {
   "cell_type": "markdown",
   "source": [
    "## Question 3: How many people who are at least 65 years old live within one mile of Fenway High School in Boston?"
   ],
   "metadata": {}
  },
  {
   "cell_type": "code",
   "execution_count": 68,
   "source": [
    "# needs a list of census block groups that are <= 1 mile of Fenway High School\n",
    "distance_from_school_df = pd.read_csv(\"data/distance_from_school_to_blockgroup_in_miles.csv\")\n",
    "blockgroups_within_1_mile_from_fenway_school = distance_from_school_df[\n",
    "    (distance_from_school_df[\"school_name\"] == \"Fenway High School\")\n",
    "    & (distance_from_school_df[\"distance\"] <= 1)][\"GEOID10\"].tolist()\n",
    "\n",
    "# extract individuals from the block group list from boston_65_and_above_population\n",
    "boston_65_and_above_within_1_mile_from_fenway_school_population = boston_65_and_above_population[boston_65_and_above_population[\"GEOID10\"].isin(blockgroups_within_1_mile_from_fenway_school)]\n",
    "\n",
    "print(\n",
    "    \"Number of people who are at least 65 years old who live within one mile of Fenway High School in Boston: \",\n",
    "    boston_65_and_above_within_1_mile_from_fenway_school_population.iloc[:, :-1].sum().sum())\n"
   ],
   "outputs": [
    {
     "output_type": "stream",
     "name": "stdout",
     "text": [
      "Number of people who are at least 65 years old who live within one mile of Fenway High School in Boston:  5419\n"
     ]
    }
   ],
   "metadata": {}
  },
  {
   "cell_type": "markdown",
   "source": [
    "## Question 4: What is the mean distance a resident of Boston who is at least 65 years old lives from their nearest school?"
   ],
   "metadata": {}
  },
  {
   "cell_type": "code",
   "execution_count": 96,
   "source": [
    "# a helper method that takes in block group code and returns the shortest school distance to the block group\n",
    "def findClosestSchoolDistance(block_group):\n",
    "    return distance_from_school_df[distance_from_school_df[\"GEOID10\"]==block_group][\"distance\"].min()\n",
    "\n",
    "boston_65_and_above_population[\"closest_school_distance\"] = boston_65_and_above_population.apply(lambda x: findClosestSchoolDistance(x[\"GEOID10\"]), axis=1)\n",
    "\n",
    "total_distance = boston_65_and_above_population[\"closest_school_distance\"].sum()\n",
    "number_of_block_groups = len(boston_65_and_above_population.index)\n",
    "\n",
    "print(\n",
    "    \"mean distance of a resident of Boston who is at least 65 years old lives from their nearest school: \", round(total_distance/number_of_block_groups, 3)\n",
    ")\n"
   ],
   "outputs": [
    {
     "output_type": "stream",
     "name": "stdout",
     "text": [
      "mean distance of a resident of Boston who is at least 65 years old lives from their nearest school:  0.323\n"
     ]
    },
    {
     "output_type": "stream",
     "name": "stderr",
     "text": [
      "<ipython-input-96-8c84cb3ddebe>:5: SettingWithCopyWarning: \n",
      "A value is trying to be set on a copy of a slice from a DataFrame.\n",
      "Try using .loc[row_indexer,col_indexer] = value instead\n",
      "\n",
      "See the caveats in the documentation: https://pandas.pydata.org/pandas-docs/stable/user_guide/indexing.html#returning-a-view-versus-a-copy\n",
      "  boston_65_and_above_population[\"closest_school_distance\"] = boston_65_and_above_population.apply(lambda x: findClosestSchoolDistance(x[\"GEOID10\"]), axis=1)\n"
     ]
    }
   ],
   "metadata": {}
  },
  {
   "cell_type": "code",
   "execution_count": 98,
   "source": [
    "import matplotlib.pyplot as plt\n",
    "\n",
    "block_group_list = boston_65_and_above_population[\"GEOID10\"].astype(str).to_list()\n",
    "closest_school_distance = pd.to_numeric(boston_65_and_above_population[\"closest_school_distance\"]).to_list()\n",
    "\n",
    "plt.figure(figsize=(20, 10))\n",
    "\n",
    "plt.title(\n",
    "    \"Bar plot representing the nearest school distance from each block group in Boston\"\n",
    ")\n",
    "plt.legend(labels=['Nearest School Distance'])\n",
    "plt.xlabel('Code Block')\n",
    "plt.ylabel('Miles')\n",
    "\n",
    "plt.bar(block_group_list, closest_school_distance)\n",
    "plt.show()"
   ],
   "outputs": [
    {
     "output_type": "display_data",
     "data": {
      "text/plain": [
       "<Figure size 1440x720 with 1 Axes>"
      ],
      "image/png": "[encoded data removed]"
     },
     "metadata": {
      "needs_background": "light"
     }
    }
   ],
   "metadata": {}
  }
 ],
 "metadata": {
  "orig_nbformat": 4,
  "language_info": {
   "name": "python",
   "version": "3.9.2",
   "mimetype": "text/x-python",
   "codemirror_mode": {
    "name": "ipython",
    "version": 3
   },
   "pygments_lexer": "ipython3",
   "nbconvert_exporter": "python",
   "file_extension": ".py"
  },
  "kernelspec": {
   "name": "python3",
   "display_name": "Python 3.9.2 64-bit"
  },
  "interpreter": {
   "hash": "aee8b7b246df8f9039afb4144a1f6fd8d2ca17a180786b69acc140d282b71a49"
  }
 },
 "nbformat": 4,
 "nbformat_minor": 2
}